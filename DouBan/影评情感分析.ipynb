{
 "cells": [
  {
   "cell_type": "code",
   "execution_count": 3,
   "metadata": {},
   "outputs": [
    {
     "name": "stdout",
     "output_type": "stream",
     "text": [
      "Welcome to\n",
      "      ____              __\n",
      "     / __/__  ___ _____/ /__\n",
      "    _\\ \\/ _ \\/ _ `/ __/  '_/\n",
      "   /__ / .__/\\_,_/_/ /_/\\_\\   version 3.5.0\n",
      "      /_/\n",
      "\n",
      "Using Python version 3.11.5 (main, Sep 11 2023 13:26:23)\n",
      "Spark context Web UI available at http://172.24.2.106:4040\n",
      "Spark context available as 'sc' (master = local[*], app id = local-1700063546629).\n",
      "SparkSession available as 'spark'.\n"
     ]
    }
   ],
   "source": [
    "import os\n",
    "import sys \n",
    "spark_name = os.environ.get('SPARK_HOME',None)\n",
    "PYSPARK_PYTHON = \"D://Unknown softwares//Anaconda//envs//jupyter-ai//python\"\n",
    "# 当存在多个python版本环境时，不指定很可能会导致出错\n",
    "os.environ[\"PYSPARK_PYTHON\"] = PYSPARK_PYTHON\n",
    "os.environ[\"PYSPARK_DRIVER_PYTHON\"] = PYSPARK_PYTHON\n",
    "if not spark_name:\n",
    "    raise ValueError('SPARK_HOME not set')\n",
    "sys.path.insert(0,os.path.join(spark_name,'python'))\n",
    "sys.path.insert(0,os.path.join(spark_name,'python/lib/py4j-0.10.9.7-src.zip '))\n",
    "exec(open(os.path.join(spark_name,'python/pyspark/shell.py')).read())\n",
    "from pyspark.sql import SparkSession\n",
    "spark = SparkSession.builder.config(\"spark.driver.host\",\"localhost\").appName(\"SparkDemo\")\\\n",
    ".master(\"yarn\")\\\n",
    ".getOrCreate()"
   ]
  },
  {
   "cell_type": "code",
   "execution_count": 4,
   "metadata": {},
   "outputs": [
    {
     "name": "stdout",
     "output_type": "stream",
     "text": [
      "+---+--------------------+-------------+----------+------+----------------+----------+----+------------------------------------+----+\n",
      "| ID|       Movie_Name_EN|Movie_Name_CN|Crawl_Date|Number|        Username|      Date|Star|                             Comment|Like|\n",
      "+---+--------------------+-------------+----------+------+----------------+----------+----+------------------------------------+----+\n",
      "|  0|Avengers Age of U...|  复仇者联盟2|2017-01-22|     1|            然潘|2015-05-13|   3|          连奥创都知道整容要去韩国。|2404|\n",
      "|  1|Avengers Age of U...|  复仇者联盟2|2017-01-22|     2|      更深的白色|2015-04-24|   2| 非常失望，剧本完全敷衍了事，主线...|1231|\n",
      "|  2|Avengers Age of U...|  复仇者联盟2|2017-01-22|     3|    有意识的贱民|2015-04-26|   2|     2015年度最失望作品。以为面面...|1052|\n",
      "|  3|Avengers Age of U...|  复仇者联盟2|2017-01-22|     4|  不老的李大爷耶|2015-04-23|   4|   《铁人2》中勾引钢铁侠，《妇联1...|1045|\n",
      "|  4|Avengers Age of U...|  复仇者联盟2|2017-01-22|     5|         ZephyrO|2015-04-22|   2|  虽然从头打到尾，但是真的很无聊啊。| 723|\n",
      "|  5|Avengers Age of U...|  复仇者联盟2|2017-01-22|     6|同志亦凡人中文站|2015-04-22|   3| 剧情不如第一集好玩了，全靠密集笑...| 671|\n",
      "|  6|Avengers Age of U...|  复仇者联盟2|2017-01-22|     7|           Danny|2015-04-23|   2| 只有一颗彩蛋必须降一星。外加漫威...| 641|\n",
      "|  7|Avengers Age of U...|  复仇者联盟2|2017-01-22|     8|           gYroS|2015-04-28|   2|            看腻了这些打来打去的烂片| 576|\n",
      "|  8|Avengers Age of U...|  复仇者联盟2|2017-01-22|     9|          tidd熊|2015-04-23|   3| 漫威粉勿喷，真感觉比第一部差了些...| 481|\n",
      "|  9|Avengers Age of U...|  复仇者联盟2|2017-01-22|    10|      桃桃淘电影|2015-05-12|   3| 属于超级英雄的春晚，角色如走马灯...| 443|\n",
      "| 10|Avengers Age of U...|  复仇者联盟2|2017-01-22|    11|            影志|2015-04-30|   4|  “一个没有黑暗面的人不值得信任。...| 381|\n",
      "| 11|Avengers Age of U...|  复仇者联盟2|2017-01-22|    12|            玖萬|2015-05-12|   2| 请漫威华丽地滚出电影界！每年都炮...| 275|\n",
      "| 12|Avengers Age of U...|  复仇者联盟2|2017-01-22|    13|        亵渎电影|2015-05-12|   2| 承认这货很烂很难吗？混乱的节奏，...| 231|\n",
      "| 13|Avengers Age of U...|  复仇者联盟2|2017-01-22|    14|      陀螺凡达可|2015-04-22|   3| 跟第一部很不一样，叙事加强了不少...| 228|\n",
      "| 14|Avengers Age of U...|  复仇者联盟2|2017-01-22|    15|      别惹小白兔|2015-04-27|   3| 漫威第二阶最中庸的一集。承上启下...| 270|\n",
      "| 15|Avengers Age of U...|  复仇者联盟2|2017-01-22|    16|          高压电|2015-05-08|   1| 什么破烂反派，毫无戏剧冲突能消耗...| 158|\n",
      "| 16|Avengers Age of U...|  复仇者联盟2|2017-01-22|    17|      牛腩羊耳朵|2015-04-22|   4| 总体来说没有达到第一部想让人立马...| 165|\n",
      "| 17|Avengers Age of U...|  复仇者联盟2|2017-01-22|    18|          文文周|2015-04-24|   5| 机甲之战超超好看，比变形金刚强；...| 182|\n",
      "| 18|Avengers Age of U...|  复仇者联盟2|2017-01-22|    19|          抽先桑|2015-04-29|   2|  结局就差寡姐握着绿巨人的手说：”...| 153|\n",
      "| 19|Avengers Age of U...|  复仇者联盟2|2017-01-22|    20|      时间的玫瑰|2015-04-23|   4|      全程挥之不去美队的胸和banne...| 144|\n",
      "+---+--------------------+-------------+----------+------+----------------+----------+----+------------------------------------+----+\n",
      "only showing top 20 rows\n",
      "\n"
     ]
    }
   ],
   "source": [
    "df = spark.read.csv('file:///D:/大三上/大数据系统原理与应用/影评情感分析/DMSC.csv', header=True, inferSchema=True, escape=\"\\\"\", multiLine=True)\n",
    "df.show()\n"
   ]
  },
  {
   "cell_type": "code",
   "execution_count": 5,
   "metadata": {},
   "outputs": [
    {
     "data": {
      "text/plain": [
       "Row(Comment=' 连奥创都知道整容要去韩国。', star=3)"
      ]
     },
     "execution_count": 5,
     "metadata": {},
     "output_type": "execute_result"
    }
   ],
   "source": [
    "data = df.select('Comment', 'star')\n",
    "data.head()"
   ]
  },
  {
   "cell_type": "code",
   "execution_count": 6,
   "metadata": {},
   "outputs": [],
   "source": [
    "from pyspark.sql.functions import udf\n",
    "from pyspark.sql.types import *\n",
    "import jieba\n",
    "word_udf = udf(lambda x: list(\"/\".join(jieba.cut_for_search(x)).split(\"/\")), ArrayType(StringType()))\n",
    "data = data.withColumn('words', word_udf('Comment'))"
   ]
  },
  {
   "cell_type": "code",
   "execution_count": 7,
   "metadata": {},
   "outputs": [
    {
     "data": {
      "text/plain": [
       "Row(Comment=' 连奥创都知道整容要去韩国。', star=3, words=[' ', '连', '奥创', '都', '知道', '整容', '要', '去', '韩国', '。'], tfFeatures=SparseVector(262144, {42071: 1.0, 59328: 1.0, 61385: 1.0, 74331: 1.0, 146416: 1.0, 167159: 1.0, 186636: 1.0, 208750: 1.0, 211921: 1.0, 239248: 1.0}))"
      ]
     },
     "execution_count": 7,
     "metadata": {},
     "output_type": "execute_result"
    }
   ],
   "source": [
    "from pyspark.ml.feature import HashingTF,IDF\n",
    "hashingTF = HashingTF(inputCol=\"words\", outputCol=\"tfFeatures\")\n",
    "tf_df = hashingTF.transform(data)\n",
    "\n",
    "tf_df.head()"
   ]
  },
  {
   "cell_type": "code",
   "execution_count": 8,
   "metadata": {},
   "outputs": [
    {
     "data": {
      "text/plain": [
       "Row(Comment=' 连奥创都知道整容要去韩国。', star=3, words=[' ', '连', '奥创', '都', '知道', '整容', '要', '去', '韩国', '。'], tfFeatures=SparseVector(262144, {42071: 1.0, 59328: 1.0, 61385: 1.0, 74331: 1.0, 146416: 1.0, 167159: 1.0, 186636: 1.0, 208750: 1.0, 211921: 1.0, 239248: 1.0}), features=SparseVector(262144, {42071: 2.9817, 59328: 4.9502, 61385: 3.3849, 74331: 1.9807, 146416: 0.0, 167159: 3.5969, 186636: 5.249, 208750: 7.9998, 211921: 0.9291, 239248: 6.6791}))"
      ]
     },
     "execution_count": 8,
     "metadata": {},
     "output_type": "execute_result"
    }
   ],
   "source": [
    "idf = IDF(inputCol=\"tfFeatures\", outputCol=\"features\")\n",
    "idfModel = idf.fit(tf_df)\n",
    "idf_df = idfModel.transform(tf_df)\n",
    "\n",
    "idf_df.head()"
   ]
  },
  {
   "cell_type": "code",
   "execution_count": 9,
   "metadata": {},
   "outputs": [],
   "source": [
    "trainSet, testSet = idf_df.randomSplit([0.9, 0.1])"
   ]
  },
  {
   "cell_type": "code",
   "execution_count": 10,
   "metadata": {},
   "outputs": [],
   "source": [
    "from pyspark.ml.classification import NaiveBayes\n",
    "nb = NaiveBayes(featuresCol=\"features\", labelCol=\"star\", smoothing=1.0)\n",
    "model = nb.fit(trainSet)"
   ]
  },
  {
   "cell_type": "code",
   "execution_count": 11,
   "metadata": {},
   "outputs": [
    {
     "ename": "Py4JJavaError",
     "evalue": "An error occurred while calling o211.save.\n: java.io.IOException: Path D:/大三上/大数据系统原理与应用/影评情感分析/Storage/model already exists. To overwrite it, please use write.overwrite().save(path) for Scala and use write().overwrite().save(path) for Java and Python.\r\n\tat org.apache.spark.ml.util.FileSystemOverwrite.handleOverwrite(ReadWrite.scala:683)\r\n\tat org.apache.spark.ml.util.MLWriter.save(ReadWrite.scala:167)\r\n\tat sun.reflect.NativeMethodAccessorImpl.invoke0(Native Method)\r\n\tat sun.reflect.NativeMethodAccessorImpl.invoke(NativeMethodAccessorImpl.java:62)\r\n\tat sun.reflect.DelegatingMethodAccessorImpl.invoke(DelegatingMethodAccessorImpl.java:43)\r\n\tat java.lang.reflect.Method.invoke(Method.java:498)\r\n\tat py4j.reflection.MethodInvoker.invoke(MethodInvoker.java:244)\r\n\tat py4j.reflection.ReflectionEngine.invoke(ReflectionEngine.java:374)\r\n\tat py4j.Gateway.invoke(Gateway.java:282)\r\n\tat py4j.commands.AbstractCommand.invokeMethod(AbstractCommand.java:132)\r\n\tat py4j.commands.CallCommand.execute(CallCommand.java:79)\r\n\tat py4j.ClientServerConnection.waitForCommands(ClientServerConnection.java:182)\r\n\tat py4j.ClientServerConnection.run(ClientServerConnection.java:106)\r\n\tat java.lang.Thread.run(Thread.java:750)\r\n",
     "output_type": "error",
     "traceback": [
      "\u001b[1;31m---------------------------------------------------------------------------\u001b[0m",
      "\u001b[1;31mPy4JJavaError\u001b[0m                             Traceback (most recent call last)",
      "\u001b[1;32md:\\大三上\\大数据系统原理与应用\\影评情感分析\\影评情感分析.ipynb Cell 9\u001b[0m line \u001b[0;36m2\n\u001b[0;32m      <a href='vscode-notebook-cell:/d%3A/%E5%A4%A7%E4%B8%89%E4%B8%8A/%E5%A4%A7%E6%95%B0%E6%8D%AE%E7%B3%BB%E7%BB%9F%E5%8E%9F%E7%90%86%E4%B8%8E%E5%BA%94%E7%94%A8/%E5%BD%B1%E8%AF%84%E6%83%85%E6%84%9F%E5%88%86%E6%9E%90/%E5%BD%B1%E8%AF%84%E6%83%85%E6%84%9F%E5%88%86%E6%9E%90.ipynb#X11sZmlsZQ%3D%3D?line=0'>1</a>\u001b[0m \u001b[39m# save model\u001b[39;00m\n\u001b[1;32m----> <a href='vscode-notebook-cell:/d%3A/%E5%A4%A7%E4%B8%89%E4%B8%8A/%E5%A4%A7%E6%95%B0%E6%8D%AE%E7%B3%BB%E7%BB%9F%E5%8E%9F%E7%90%86%E4%B8%8E%E5%BA%94%E7%94%A8/%E5%BD%B1%E8%AF%84%E6%83%85%E6%84%9F%E5%88%86%E6%9E%90/%E5%BD%B1%E8%AF%84%E6%83%85%E6%84%9F%E5%88%86%E6%9E%90.ipynb#X11sZmlsZQ%3D%3D?line=1'>2</a>\u001b[0m model\u001b[39m.\u001b[39;49msave(\u001b[39m\"\u001b[39;49m\u001b[39mD:/大三上/大数据系统原理与应用/影评情感分析/Storage/model\u001b[39;49m\u001b[39m\"\u001b[39;49m)\n",
      "File \u001b[1;32mD:\\Unknown softwares\\Spark\\spark-3.5.0-bin-hadoop3\\python\\pyspark\\ml\\util.py:262\u001b[0m, in \u001b[0;36mMLWritable.save\u001b[1;34m(self, path)\u001b[0m\n\u001b[0;32m    260\u001b[0m \u001b[39mdef\u001b[39;00m \u001b[39msave\u001b[39m(\u001b[39mself\u001b[39m, path: \u001b[39mstr\u001b[39m) \u001b[39m-\u001b[39m\u001b[39m>\u001b[39m \u001b[39mNone\u001b[39;00m:\n\u001b[0;32m    261\u001b[0m \u001b[39m    \u001b[39m\u001b[39m\"\"\"Save this ML instance to the given path, a shortcut of 'write().save(path)'.\"\"\"\u001b[39;00m\n\u001b[1;32m--> 262\u001b[0m     \u001b[39mself\u001b[39;49m\u001b[39m.\u001b[39;49mwrite()\u001b[39m.\u001b[39;49msave(path)\n",
      "File \u001b[1;32mD:\\Unknown softwares\\Spark\\spark-3.5.0-bin-hadoop3\\python\\pyspark\\ml\\util.py:213\u001b[0m, in \u001b[0;36mJavaMLWriter.save\u001b[1;34m(self, path)\u001b[0m\n\u001b[0;32m    211\u001b[0m \u001b[39mif\u001b[39;00m \u001b[39mnot\u001b[39;00m \u001b[39misinstance\u001b[39m(path, \u001b[39mstr\u001b[39m):\n\u001b[0;32m    212\u001b[0m     \u001b[39mraise\u001b[39;00m \u001b[39mTypeError\u001b[39;00m(\u001b[39m\"\u001b[39m\u001b[39mpath should be a string, got type \u001b[39m\u001b[39m%s\u001b[39;00m\u001b[39m\"\u001b[39m \u001b[39m%\u001b[39m \u001b[39mtype\u001b[39m(path))\n\u001b[1;32m--> 213\u001b[0m \u001b[39mself\u001b[39;49m\u001b[39m.\u001b[39;49m_jwrite\u001b[39m.\u001b[39;49msave(path)\n",
      "File \u001b[1;32mD:\\Unknown softwares\\Spark\\spark-3.5.0-bin-hadoop3\\python\\lib\\py4j-0.10.9.7-src.zip \\py4j\\java_gateway.py:1322\u001b[0m, in \u001b[0;36mJavaMember.__call__\u001b[1;34m(self, *args)\u001b[0m\n\u001b[0;32m   1316\u001b[0m command \u001b[39m=\u001b[39m proto\u001b[39m.\u001b[39mCALL_COMMAND_NAME \u001b[39m+\u001b[39m\\\n\u001b[0;32m   1317\u001b[0m     \u001b[39mself\u001b[39m\u001b[39m.\u001b[39mcommand_header \u001b[39m+\u001b[39m\\\n\u001b[0;32m   1318\u001b[0m     args_command \u001b[39m+\u001b[39m\\\n\u001b[0;32m   1319\u001b[0m     proto\u001b[39m.\u001b[39mEND_COMMAND_PART\n\u001b[0;32m   1321\u001b[0m answer \u001b[39m=\u001b[39m \u001b[39mself\u001b[39m\u001b[39m.\u001b[39mgateway_client\u001b[39m.\u001b[39msend_command(command)\n\u001b[1;32m-> 1322\u001b[0m return_value \u001b[39m=\u001b[39m get_return_value(\n\u001b[0;32m   1323\u001b[0m     answer, \u001b[39mself\u001b[39;49m\u001b[39m.\u001b[39;49mgateway_client, \u001b[39mself\u001b[39;49m\u001b[39m.\u001b[39;49mtarget_id, \u001b[39mself\u001b[39;49m\u001b[39m.\u001b[39;49mname)\n\u001b[0;32m   1325\u001b[0m \u001b[39mfor\u001b[39;00m temp_arg \u001b[39min\u001b[39;00m temp_args:\n\u001b[0;32m   1326\u001b[0m     \u001b[39mif\u001b[39;00m \u001b[39mhasattr\u001b[39m(temp_arg, \u001b[39m\"\u001b[39m\u001b[39m_detach\u001b[39m\u001b[39m\"\u001b[39m):\n",
      "File \u001b[1;32mD:\\Unknown softwares\\Spark\\spark-3.5.0-bin-hadoop3\\python\\pyspark\\errors\\exceptions\\captured.py:179\u001b[0m, in \u001b[0;36mcapture_sql_exception.<locals>.deco\u001b[1;34m(*a, **kw)\u001b[0m\n\u001b[0;32m    177\u001b[0m \u001b[39mdef\u001b[39;00m \u001b[39mdeco\u001b[39m(\u001b[39m*\u001b[39ma: Any, \u001b[39m*\u001b[39m\u001b[39m*\u001b[39mkw: Any) \u001b[39m-\u001b[39m\u001b[39m>\u001b[39m Any:\n\u001b[0;32m    178\u001b[0m     \u001b[39mtry\u001b[39;00m:\n\u001b[1;32m--> 179\u001b[0m         \u001b[39mreturn\u001b[39;00m f(\u001b[39m*\u001b[39;49ma, \u001b[39m*\u001b[39;49m\u001b[39m*\u001b[39;49mkw)\n\u001b[0;32m    180\u001b[0m     \u001b[39mexcept\u001b[39;00m Py4JJavaError \u001b[39mas\u001b[39;00m e:\n\u001b[0;32m    181\u001b[0m         converted \u001b[39m=\u001b[39m convert_exception(e\u001b[39m.\u001b[39mjava_exception)\n",
      "File \u001b[1;32mD:\\Unknown softwares\\Spark\\spark-3.5.0-bin-hadoop3\\python\\lib\\py4j-0.10.9.7-src.zip \\py4j\\protocol.py:326\u001b[0m, in \u001b[0;36mget_return_value\u001b[1;34m(answer, gateway_client, target_id, name)\u001b[0m\n\u001b[0;32m    324\u001b[0m value \u001b[39m=\u001b[39m OUTPUT_CONVERTER[\u001b[39mtype\u001b[39m](answer[\u001b[39m2\u001b[39m:], gateway_client)\n\u001b[0;32m    325\u001b[0m \u001b[39mif\u001b[39;00m answer[\u001b[39m1\u001b[39m] \u001b[39m==\u001b[39m REFERENCE_TYPE:\n\u001b[1;32m--> 326\u001b[0m     \u001b[39mraise\u001b[39;00m Py4JJavaError(\n\u001b[0;32m    327\u001b[0m         \u001b[39m\"\u001b[39m\u001b[39mAn error occurred while calling \u001b[39m\u001b[39m{0}\u001b[39;00m\u001b[39m{1}\u001b[39;00m\u001b[39m{2}\u001b[39;00m\u001b[39m.\u001b[39m\u001b[39m\\n\u001b[39;00m\u001b[39m\"\u001b[39m\u001b[39m.\u001b[39m\n\u001b[0;32m    328\u001b[0m         \u001b[39mformat\u001b[39m(target_id, \u001b[39m\"\u001b[39m\u001b[39m.\u001b[39m\u001b[39m\"\u001b[39m, name), value)\n\u001b[0;32m    329\u001b[0m \u001b[39melse\u001b[39;00m:\n\u001b[0;32m    330\u001b[0m     \u001b[39mraise\u001b[39;00m Py4JError(\n\u001b[0;32m    331\u001b[0m         \u001b[39m\"\u001b[39m\u001b[39mAn error occurred while calling \u001b[39m\u001b[39m{0}\u001b[39;00m\u001b[39m{1}\u001b[39;00m\u001b[39m{2}\u001b[39;00m\u001b[39m. Trace:\u001b[39m\u001b[39m\\n\u001b[39;00m\u001b[39m{3}\u001b[39;00m\u001b[39m\\n\u001b[39;00m\u001b[39m\"\u001b[39m\u001b[39m.\u001b[39m\n\u001b[0;32m    332\u001b[0m         \u001b[39mformat\u001b[39m(target_id, \u001b[39m\"\u001b[39m\u001b[39m.\u001b[39m\u001b[39m\"\u001b[39m, name, value))\n",
      "\u001b[1;31mPy4JJavaError\u001b[0m: An error occurred while calling o211.save.\n: java.io.IOException: Path D:/大三上/大数据系统原理与应用/影评情感分析/Storage/model already exists. To overwrite it, please use write.overwrite().save(path) for Scala and use write().overwrite().save(path) for Java and Python.\r\n\tat org.apache.spark.ml.util.FileSystemOverwrite.handleOverwrite(ReadWrite.scala:683)\r\n\tat org.apache.spark.ml.util.MLWriter.save(ReadWrite.scala:167)\r\n\tat sun.reflect.NativeMethodAccessorImpl.invoke0(Native Method)\r\n\tat sun.reflect.NativeMethodAccessorImpl.invoke(NativeMethodAccessorImpl.java:62)\r\n\tat sun.reflect.DelegatingMethodAccessorImpl.invoke(DelegatingMethodAccessorImpl.java:43)\r\n\tat java.lang.reflect.Method.invoke(Method.java:498)\r\n\tat py4j.reflection.MethodInvoker.invoke(MethodInvoker.java:244)\r\n\tat py4j.reflection.ReflectionEngine.invoke(ReflectionEngine.java:374)\r\n\tat py4j.Gateway.invoke(Gateway.java:282)\r\n\tat py4j.commands.AbstractCommand.invokeMethod(AbstractCommand.java:132)\r\n\tat py4j.commands.CallCommand.execute(CallCommand.java:79)\r\n\tat py4j.ClientServerConnection.waitForCommands(ClientServerConnection.java:182)\r\n\tat py4j.ClientServerConnection.run(ClientServerConnection.java:106)\r\n\tat java.lang.Thread.run(Thread.java:750)\r\n"
     ]
    }
   ],
   "source": [
    "# save model\n",
    "model.save(\"D:/大三上/大数据系统原理与应用/影评情感分析/Storage/model\")"
   ]
  },
  {
   "cell_type": "code",
   "execution_count": 12,
   "metadata": {},
   "outputs": [
    {
     "data": {
      "text/plain": [
       "NaiveBayesModel: uid=NaiveBayes_6dfa58e2e5f1, modelType=multinomial, numClasses=5, numFeatures=262144"
      ]
     },
     "execution_count": 12,
     "metadata": {},
     "output_type": "execute_result"
    }
   ],
   "source": [
    "# load model\n",
    "\n",
    "from pyspark.ml.classification import NaiveBayesModel\n",
    "NaiveBayesModel.load(\"D:/大三上/大数据系统原理与应用/影评情感分析/Storage/model\")"
   ]
  },
  {
   "cell_type": "code",
   "execution_count": null,
   "metadata": {},
   "outputs": [],
   "source": [
    "result = model.transform(testSet)\n",
    "result"
   ]
  },
  {
   "cell_type": "code",
   "execution_count": null,
   "metadata": {},
   "outputs": [],
   "source": [
    "result.select(\"Comment\", \"star\", \"prediction\").write.csv(path='', sep=\"[@\")\n",
    "df = spark.read.csv('/result/part-00000-95c2b7a4-4780-40c6-af29-d81df4998a55-c000.csv',inferShema=True, escape=\"\\\"\", multiLine=True, sep=\"[@]\")\n",
    "df.head()"
   ]
  },
  {
   "cell_type": "code",
   "execution_count": null,
   "metadata": {},
   "outputs": [],
   "source": [
    "int2Float_udf = udf(lambda x: float(x))\n",
    "result_df = df.withColumn(\"star\", int2Float_udf(\"_c1\"))\n",
    "\n",
    "result_df.head()"
   ]
  },
  {
   "cell_type": "code",
   "execution_count": null,
   "metadata": {},
   "outputs": [],
   "source": [
    "result_df.count()\n",
    "result_df.filter(\"star=_c2\").count()"
   ]
  }
 ],
 "metadata": {
  "kernelspec": {
   "display_name": "jupyter-ai",
   "language": "python",
   "name": "python3"
  },
  "language_info": {
   "codemirror_mode": {
    "name": "ipython",
    "version": 3
   },
   "file_extension": ".py",
   "mimetype": "text/x-python",
   "name": "python",
   "nbconvert_exporter": "python",
   "pygments_lexer": "ipython3",
   "version": "3.11.5"
  }
 },
 "nbformat": 4,
 "nbformat_minor": 2
}
